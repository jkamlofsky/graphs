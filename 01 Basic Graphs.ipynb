{
 "cells": [
  {
   "cell_type": "markdown",
   "id": "1a109a49",
   "metadata": {},
   "source": [
    "# Introduction into Graphs"
   ]
  },
  {
   "cell_type": "markdown",
   "id": "f4148193",
   "metadata": {},
   "source": [
    "## 1. Grafos básicos "
   ]
  },
  {
   "cell_type": "markdown",
   "id": "0aba6097",
   "metadata": {},
   "source": [
    "### 1.1 Librerias"
   ]
  },
  {
   "cell_type": "code",
   "execution_count": 1,
   "id": "abe27c52",
   "metadata": {},
   "outputs": [],
   "source": [
    "# Librerias\n",
    "import networkx as nx\n",
    "import pygraphviz as pgv\n",
    "from IPython.display import SVG\n",
    "import pandas as pd\n",
    "import matplotlib.pyplot as plt"
   ]
  },
  {
   "cell_type": "markdown",
   "id": "af752ea6",
   "metadata": {},
   "source": [
    "### 1.2 Creacion del Grafo"
   ]
  },
  {
   "cell_type": "code",
   "execution_count": 3,
   "id": "767c0010",
   "metadata": {},
   "outputs": [],
   "source": [
    "G1=nx.Graph()\n",
    "# Carga de nodos:\n",
    "G1.add_node(\"v1\")\n",
    "G1.add_node(\"v2\")\n",
    "G1.add_node(\"v3\")\n",
    "G1.add_node(\"v4\")\n",
    "G1.add_node(\"v5\")\n",
    "# Carga de aristas:\n",
    "G1.add_edge(\"v1\",\"v2\",name=\"a1\")\n",
    "G1.add_edge(\"v1\",\"v3\",name=\"a2\")\n",
    "G1.add_edge(\"v2\",\"v3\",name=\"a3\")\n",
    "G1.add_edge(\"v2\",\"v4\",name=\"a4\")\n",
    "G1.add_edge(\"v2\",\"v5\",name=\"a6\")\n",
    "G1.add_edge(\"v3\",\"v4\",name=\"a5\")\n",
    "G1.add_edge(\"v3\",\"v5\",name=\"a7\")"
   ]
  },
  {
   "cell_type": "markdown",
   "id": "1e84c13d",
   "metadata": {},
   "source": [
    "### 1.3 Impresion Grafo"
   ]
  },
  {
   "cell_type": "code",
   "execution_count": 4,
   "id": "0e1714ba",
   "metadata": {},
   "outputs": [
    {
     "data": {
      "text/plain": [
       "{('v1', 'v2'): Text(-0.3320160495795274, 0.5277089386609066, 'a1'),\n",
       " ('v1', 'v3'): Text(-0.541595276175368, 0.3184124800682558, 'a2'),\n",
       " ('v2', 'v3'): Text(-0.06236918185727182, 0.05797936397617709, 'a3'),\n",
       " ('v2', 'v4'): Text(0.04263296356124502, -0.366362088715586, 'a4'),\n",
       " ('v2', 'v5'): Text(0.5725673349834074, 0.18158751993174438, 'a6'),\n",
       " ('v3', 'v4'): Text(-0.1669462630345956, -0.575658547308237, 'a5'),\n",
       " ('v3', 'v5'): Text(0.3629881083875668, -0.027708938660906526, 'a7')}"
      ]
     },
     "execution_count": 4,
     "metadata": {},
     "output_type": "execute_result"
    },
    {
     "data": {
      "image/png": "[encoded data removed]",
      "text/plain": [
       "<Figure size 432x288 with 1 Axes>"
      ]
     },
     "metadata": {},
     "output_type": "display_data"
    }
   ],
   "source": [
    "# Networkx\n",
    "pos = nx.spring_layout(G1)\n",
    "nx.draw(G1,pos,with_labels = True)\n",
    "nx.draw_networkx_edge_labels(G1,pos,edge_labels=nx.get_edge_attributes(G1,'name'))"
   ]
  },
  {
   "cell_type": "code",
   "execution_count": 9,
   "id": "2e25ce50",
   "metadata": {},
   "outputs": [
    {
     "data": {
      "image/svg+xml": [
       "<svg xmlns=\"http://www.w3.org/2000/svg\" xmlns:xlink=\"http://www.w3.org/1999/xlink\" width=\"149pt\" height=\"260pt\" viewBox=\"0.00 0.00 149.00 260.00\">\n",
       "<g id=\"graph0\" class=\"graph\" transform=\"scale(1 1) rotate(0) translate(4 256)\">\n",
       "<polygon fill=\"white\" stroke=\"transparent\" points=\"-4,4 -4,-256 145,-256 145,4 -4,4\"/>\n",
       "<!-- v1 -->\n",
       "<g id=\"node1\" class=\"node\">\n",
       "<title>v1</title>\n",
       "<ellipse fill=\"none\" stroke=\"black\" cx=\"54\" cy=\"-234\" rx=\"27\" ry=\"18\"/>\n",
       "<text text-anchor=\"middle\" x=\"54\" y=\"-230.3\" font-family=\"Times,serif\" font-size=\"14.00\">v1</text>\n",
       "</g>\n",
       "<!-- v2 -->\n",
       "<g id=\"node2\" class=\"node\">\n",
       "<title>v2</title>\n",
       "<ellipse fill=\"none\" stroke=\"black\" cx=\"82\" cy=\"-162\" rx=\"27\" ry=\"18\"/>\n",
       "<text text-anchor=\"middle\" x=\"82\" y=\"-158.3\" font-family=\"Times,serif\" font-size=\"14.00\">v2</text>\n",
       "</g>\n",
       "<!-- v1&#45;&#45;v2 -->\n",
       "<g id=\"edge1\" class=\"edge\">\n",
       "<title>v1--v2</title>\n",
       "<path fill=\"none\" stroke=\"black\" d=\"M60.64,-216.41C65.1,-205.25 70.96,-190.6 75.41,-179.47\"/>\n",
       "</g>\n",
       "<!-- v3 -->\n",
       "<g id=\"node3\" class=\"node\">\n",
       "<title>v3</title>\n",
       "<ellipse fill=\"none\" stroke=\"black\" cx=\"27\" cy=\"-90\" rx=\"27\" ry=\"18\"/>\n",
       "<text text-anchor=\"middle\" x=\"27\" y=\"-86.3\" font-family=\"Times,serif\" font-size=\"14.00\">v3</text>\n",
       "</g>\n",
       "<!-- v1&#45;&#45;v3 -->\n",
       "<g id=\"edge2\" class=\"edge\">\n",
       "<title>v1--v3</title>\n",
       "<path fill=\"none\" stroke=\"black\" d=\"M50.74,-215.87C45.55,-188.58 35.47,-135.52 30.27,-108.19\"/>\n",
       "</g>\n",
       "<!-- v2&#45;&#45;v3 -->\n",
       "<g id=\"edge3\" class=\"edge\">\n",
       "<title>v2--v3</title>\n",
       "<path fill=\"none\" stroke=\"black\" d=\"M70.07,-145.81C60.84,-134.07 48.13,-117.89 38.91,-106.16\"/>\n",
       "</g>\n",
       "<!-- v4 -->\n",
       "<g id=\"node4\" class=\"node\">\n",
       "<title>v4</title>\n",
       "<ellipse fill=\"none\" stroke=\"black\" cx=\"37\" cy=\"-18\" rx=\"27\" ry=\"18\"/>\n",
       "<text text-anchor=\"middle\" x=\"37\" y=\"-14.3\" font-family=\"Times,serif\" font-size=\"14.00\">v4</text>\n",
       "</g>\n",
       "<!-- v2&#45;&#45;v4 -->\n",
       "<g id=\"edge4\" class=\"edge\">\n",
       "<title>v2--v4</title>\n",
       "<path fill=\"none\" stroke=\"black\" d=\"M79.63,-143.93C76.82,-125.76 71.42,-96.34 63,-72 58.58,-59.22 51.8,-45.52 46.28,-35.26\"/>\n",
       "</g>\n",
       "<!-- v5 -->\n",
       "<g id=\"node5\" class=\"node\">\n",
       "<title>v5</title>\n",
       "<ellipse fill=\"none\" stroke=\"black\" cx=\"114\" cy=\"-18\" rx=\"27\" ry=\"18\"/>\n",
       "<text text-anchor=\"middle\" x=\"114\" y=\"-14.3\" font-family=\"Times,serif\" font-size=\"14.00\">v5</text>\n",
       "</g>\n",
       "<!-- v2&#45;&#45;v5 -->\n",
       "<g id=\"edge5\" class=\"edge\">\n",
       "<title>v2--v5</title>\n",
       "<path fill=\"none\" stroke=\"black\" d=\"M86.8,-143.88C89.63,-133.53 93.19,-120.05 96,-108 101.79,-83.13 107.46,-54.09 110.85,-36.13\"/>\n",
       "</g>\n",
       "<!-- v3&#45;&#45;v4 -->\n",
       "<g id=\"edge6\" class=\"edge\">\n",
       "<title>v3--v4</title>\n",
       "<path fill=\"none\" stroke=\"black\" d=\"M29.42,-72.06C30.97,-61.21 32.97,-47.18 34.53,-36.27\"/>\n",
       "</g>\n",
       "<!-- v3&#45;&#45;v5 -->\n",
       "<g id=\"edge7\" class=\"edge\">\n",
       "<title>v3--v5</title>\n",
       "<path fill=\"none\" stroke=\"black\" d=\"M43.77,-75.5C59.18,-63.11 81.89,-44.84 97.28,-32.45\"/>\n",
       "</g>\n",
       "</g>\n",
       "</svg>"
      ],
      "text/plain": [
       "<IPython.core.display.SVG object>"
      ]
     },
     "execution_count": 9,
     "metadata": {},
     "output_type": "execute_result"
    }
   ],
   "source": [
    "# Pygraphviz\n",
    "A = nx.nx_agraph.to_agraph(G1)\n",
    "A.layout('dot')\n",
    "A.draw('web.svg')\n",
    "SVG('web.svg')"
   ]
  },
  {
   "cell_type": "markdown",
   "id": "3b31f310",
   "metadata": {},
   "source": [
    "### 1.4. Guardar y cargar el grafo"
   ]
  },
  {
   "cell_type": "markdown",
   "id": "97c2f6d2",
   "metadata": {},
   "source": [
    "Un grafo en NetworkX puede almacenarse en varios formatos: como GML, JSON, Pajek, YAML, Pickle. Para ello, existen funciones Write."
   ]
  },
  {
   "cell_type": "markdown",
   "id": "61959598",
   "metadata": {},
   "source": [
    "#### Persisto y cargo grafo con Pickle"
   ]
  },
  {
   "cell_type": "code",
   "execution_count": 10,
   "id": "923c2ee9",
   "metadata": {},
   "outputs": [],
   "source": [
    "# Grabado en Pickle\n",
    "archivo=\"G1.pkl\"\n",
    "nx.write_gpickle(G1, archivo)\n",
    "# Demoramos 1 seg.\n",
    "G2=nx.read_gpickle(archivo)"
   ]
  },
  {
   "cell_type": "markdown",
   "id": "cbf8e65a",
   "metadata": {},
   "source": [
    "#### Dibujo el grafo recuperado"
   ]
  },
  {
   "cell_type": "code",
   "execution_count": 11,
   "id": "3cfce8c6",
   "metadata": {},
   "outputs": [
    {
     "data": {
      "text/plain": [
       "{('v1', 'v2'): Text(-0.3320160495795274, 0.5277089386609066, 'a1'),\n",
       " ('v1', 'v3'): Text(-0.541595276175368, 0.3184124800682558, 'a2'),\n",
       " ('v2', 'v3'): Text(-0.06236918185727182, 0.05797936397617709, 'a3'),\n",
       " ('v2', 'v4'): Text(0.04263296356124502, -0.366362088715586, 'a4'),\n",
       " ('v2', 'v5'): Text(0.5725673349834074, 0.18158751993174438, 'a6'),\n",
       " ('v3', 'v4'): Text(-0.1669462630345956, -0.575658547308237, 'a5'),\n",
       " ('v3', 'v5'): Text(0.3629881083875668, -0.027708938660906526, 'a7')}"
      ]
     },
     "execution_count": 11,
     "metadata": {},
     "output_type": "execute_result"
    },
    {
     "data": {
      "image/png": "[encoded data removed]",
      "text/plain": [
       "<Figure size 432x288 with 1 Axes>"
      ]
     },
     "metadata": {},
     "output_type": "display_data"
    }
   ],
   "source": [
    "# Grafo recuperado\n",
    "nx.draw(G2,pos,with_labels = True) # se uso mismo \"pos\" para que queden en el mismo lugar\n",
    "nx.draw_networkx_edge_labels(G2,pos,edge_labels=nx.get_edge_attributes(G2,'name'))"
   ]
  },
  {
   "cell_type": "markdown",
   "id": "d7bf4a23",
   "metadata": {},
   "source": [
    "### 1.5. Cambio estilos al grafo"
   ]
  },
  {
   "cell_type": "code",
   "execution_count": 12,
   "id": "7f87197b",
   "metadata": {},
   "outputs": [
    {
     "data": {
      "text/plain": [
       "{'v1': Text(-0.8112421438976236, 0.7881420547529854, 'v1'),\n",
       " 'v2': Text(0.14721004473856877, 0.267275822568828, 'v2'),\n",
       " 'v3': Text(-0.2719484084531124, -0.1513170946164738, 'v3'),\n",
       " 'v4': Text(-0.06194411761607874, -1.0, 'v4'),\n",
       " 'v5': Text(0.997924625228246, 0.09589921729466075, 'v5')}"
      ]
     },
     "execution_count": 12,
     "metadata": {},
     "output_type": "execute_result"
    },
    {
     "data": {
      "image/png": "[encoded data removed]",
      "text/plain": [
       "<Figure size 432x288 with 1 Axes>"
      ]
     },
     "metadata": {},
     "output_type": "display_data"
    }
   ],
   "source": [
    "# Estilos:\n",
    "nx.draw_networkx_nodes(G2, pos, node_size=500, node_color='green') #nodos\n",
    "nx.draw_networkx_edges(G2, pos, width=2, alpha=1, edge_color='black')\n",
    "nx.draw_networkx_edge_labels(G2,pos,edge_labels={(u,v):G2[u][v]['name'] for u,v in G2.edges()} ,font_color='blue',font_size=12)\n",
    "nx.draw_networkx_labels(G2, pos, font_size=12, font_family='sans-serif') "
   ]
  },
  {
   "cell_type": "markdown",
   "id": "6f658dad",
   "metadata": {},
   "source": [
    "### 1.6. Conectividad"
   ]
  },
  {
   "cell_type": "code",
   "execution_count": 83,
   "id": "184f6212",
   "metadata": {},
   "outputs": [
    {
     "name": "stdout",
     "output_type": "stream",
     "text": [
      "El grafo es conexo:  True\n"
     ]
    }
   ],
   "source": [
    "# Ver si el grafo es conexo:\n",
    "print('El grafo es conexo: ',nx.is_connected(G2))"
   ]
  },
  {
   "cell_type": "code",
   "execution_count": 82,
   "id": "093d9bed",
   "metadata": {},
   "outputs": [
    {
     "name": "stdout",
     "output_type": "stream",
     "text": [
      "Cantidad de componentes:  1\n"
     ]
    }
   ],
   "source": [
    "# Cantidad de componentes conexas:\n",
    "print('Cantidad de componentes: ',nx.number_connected_components(G2))"
   ]
  },
  {
   "cell_type": "markdown",
   "id": "5beeff2e",
   "metadata": {},
   "source": [
    "## 2. Vertices y aristas"
   ]
  },
  {
   "cell_type": "markdown",
   "id": "395ad466",
   "metadata": {},
   "source": [
    "### 2.1. Vertices y aristas con Pandas"
   ]
  },
  {
   "cell_type": "code",
   "execution_count": 13,
   "id": "72de323e",
   "metadata": {},
   "outputs": [
    {
     "name": "stdout",
     "output_type": "stream",
     "text": [
      "   vertices aristas\n",
      "0  (v1, v2)      a1\n",
      "1  (v1, v3)      a2\n",
      "2  (v2, v3)      a3\n",
      "3  (v2, v4)      a4\n",
      "4  (v2, v5)      a6\n",
      "5  (v3, v4)      a5\n",
      "6  (v3, v5)      a7\n"
     ]
    }
   ],
   "source": [
    "# Dataframe con vertices y aristas\n",
    "dfGrafo=pd.DataFrame(nx.get_edge_attributes(G2, \"name\").items(), columns=[\"vertices\",\"aristas\"])\n",
    "print(dfGrafo)"
   ]
  },
  {
   "cell_type": "markdown",
   "id": "77530b13",
   "metadata": {},
   "source": [
    "### 2.2. Acerca de los Vertices"
   ]
  },
  {
   "cell_type": "code",
   "execution_count": 14,
   "id": "544ecc78",
   "metadata": {},
   "outputs": [
    {
     "name": "stdout",
     "output_type": "stream",
     "text": [
      "Los vertices del grafo: ['v1', 'v2', 'v3', 'v4', 'v5']\n",
      "Cantidad de Vertices: 5\n",
      "Grado de los Vertices:  [('v1', 2), ('v2', 4), ('v3', 4), ('v4', 2), ('v5', 2)]\n",
      "Grado del Vertice v1: 2\n"
     ]
    }
   ],
   "source": [
    "# Los Vertices\n",
    "print('Los vertices del grafo:',G2.nodes)\n",
    "print('Cantidad de Vertices:', G2.order())\n",
    "# El grado de los vértices:\n",
    "print('Grado de los Vertices: ',G2.degree())\n",
    "print('Grado del Vertice v1:', G2.degree('v1'))"
   ]
  },
  {
   "cell_type": "markdown",
   "id": "cf2864f9",
   "metadata": {},
   "source": [
    "### 2.3. Acerca de las Aristas"
   ]
  },
  {
   "cell_type": "code",
   "execution_count": 15,
   "id": "81bc12b0",
   "metadata": {},
   "outputs": [
    {
     "name": "stdout",
     "output_type": "stream",
     "text": [
      "Las aristas:  [('v1', 'v2'), ('v1', 'v3'), ('v2', 'v3'), ('v2', 'v4'), ('v2', 'v5'), ('v3', 'v4'), ('v3', 'v5')]\n",
      "Con Nombre:  {('v1', 'v2'): 'a1', ('v1', 'v3'): 'a2', ('v2', 'v3'): 'a3', ('v2', 'v4'): 'a4', ('v2', 'v5'): 'a6', ('v3', 'v4'): 'a5', ('v3', 'v5'): 'a7'}\n"
     ]
    }
   ],
   "source": [
    "# Las aristas\n",
    "print('Las aristas: ',G2.edges())\n",
    "print('Con Nombre: ',nx.get_edge_attributes(G2,'name'))"
   ]
  },
  {
   "cell_type": "markdown",
   "id": "ff0ba610",
   "metadata": {},
   "source": [
    "## 3. Representación Matricial"
   ]
  },
  {
   "cell_type": "markdown",
   "id": "16f24997",
   "metadata": {},
   "source": [
    "### 3.1. Matriz de Adyacencia desde Grafo"
   ]
  },
  {
   "cell_type": "code",
   "execution_count": 18,
   "id": "af75b0a2",
   "metadata": {},
   "outputs": [
    {
     "data": {
      "text/plain": [
       "matrix([[0, 1, 1, 0, 0],\n",
       "        [1, 0, 1, 1, 1],\n",
       "        [1, 1, 0, 1, 1],\n",
       "        [0, 1, 1, 0, 0],\n",
       "        [0, 1, 1, 0, 0]])"
      ]
     },
     "execution_count": 18,
     "metadata": {},
     "output_type": "execute_result"
    }
   ],
   "source": [
    "A=nx.adjacency_matrix(G2)\n",
    "A.todense()"
   ]
  },
  {
   "cell_type": "markdown",
   "id": "72fd2a1a",
   "metadata": {},
   "source": [
    "### 3.2. Grafo desde Matriz de Adyacencia"
   ]
  },
  {
   "cell_type": "code",
   "execution_count": 24,
   "id": "0046ea56",
   "metadata": {},
   "outputs": [
    {
     "name": "stdout",
     "output_type": "stream",
     "text": [
      "Graph with 5 nodes and 7 edges\n"
     ]
    },
    {
     "data": {
      "image/png": "[encoded data removed]",
      "text/plain": [
       "<Figure size 432x288 with 1 Axes>"
      ]
     },
     "metadata": {},
     "output_type": "display_data"
    }
   ],
   "source": [
    "# Recupera Grafo a partir de matriz\n",
    "H = nx.from_numpy_matrix(A)\n",
    "print(H)\n",
    "pos = nx.spring_layout(H)\n",
    "nx.draw(H,pos,with_labels = True)"
   ]
  },
  {
   "cell_type": "markdown",
   "id": "81b68a67",
   "metadata": {},
   "source": [
    "## 4. Caminos y ciclos de Euler"
   ]
  },
  {
   "cell_type": "markdown",
   "id": "33178c07",
   "metadata": {},
   "source": [
    "### 4.1. Grados: ¿Admite camino y/o ciclo euleriano?"
   ]
  },
  {
   "cell_type": "markdown",
   "id": "61b25ba0",
   "metadata": {},
   "source": [
    "Un grafo admite un ciclo de Euler si es conexo, y el grado de todos sus vertices es par. En forma parecida, un grafo admite un camino de Euler si es conexo, y el grado de todos sus vertices es par salvo el 'inicial' y el 'final' que tienen grado impar."
   ]
  },
  {
   "cell_type": "code",
   "execution_count": 65,
   "id": "0d8a7467",
   "metadata": {},
   "outputs": [
    {
     "name": "stdout",
     "output_type": "stream",
     "text": [
      "Grado( 0 )= 2\n",
      "Grado( 1 )= 4\n",
      "Grado( 2 )= 4\n",
      "Grado( 3 )= 2\n",
      "Grado( 4 )= 2\n"
     ]
    }
   ],
   "source": [
    "grados=H.degree()\n",
    "for i in range(len(grados)):\n",
    "    print('Grado(',i,')=',grados[i])"
   ]
  },
  {
   "cell_type": "markdown",
   "id": "0e02bb31",
   "metadata": {},
   "source": [
    "### 4.2. ¿Admite camino euleriano?"
   ]
  },
  {
   "cell_type": "code",
   "execution_count": 85,
   "id": "50df9c30",
   "metadata": {},
   "outputs": [
    {
     "name": "stdout",
     "output_type": "stream",
     "text": [
      "¿Admite Camino Euleriano?  False\n"
     ]
    }
   ],
   "source": [
    "# Se testea si el grafo admite un camino euleriano desde la librería Networkx.\n",
    "resCAe=nx.is_semieulerian(H)\n",
    "print('¿Admite Camino Euleriano? ',resCAe)  "
   ]
  },
  {
   "cell_type": "code",
   "execution_count": 86,
   "id": "b3c7c49a",
   "metadata": {},
   "outputs": [
    {
     "name": "stdout",
     "output_type": "stream",
     "text": [
      "El grafo No admite un Camino de Euler\n"
     ]
    }
   ],
   "source": [
    "if(resCAe):\n",
    "    CSe=list(nx.eulerian_path(H,source=None))\n",
    "    print('Camino_Euler=',CAe)\n",
    "else:\n",
    "    print('El grafo No admite un Camino de Euler')    "
   ]
  },
  {
   "cell_type": "markdown",
   "id": "af29efb7",
   "metadata": {},
   "source": [
    "### 4.3. ¿Admite ciclo euleriano?"
   ]
  },
  {
   "cell_type": "code",
   "execution_count": 87,
   "id": "348cc16c",
   "metadata": {},
   "outputs": [
    {
     "name": "stdout",
     "output_type": "stream",
     "text": [
      "¿Admite Ciclo Euleriano?  True\n"
     ]
    }
   ],
   "source": [
    "# Se testea si el grafo admite un ciclo euleriano desde la librería Networkx.\n",
    "resCIe=nx.is_eulerian(H)\n",
    "print('¿Admite Ciclo Euleriano? ',resCIe)"
   ]
  },
  {
   "cell_type": "code",
   "execution_count": 88,
   "id": "bdc2370b",
   "metadata": {},
   "outputs": [
    {
     "name": "stdout",
     "output_type": "stream",
     "text": [
      "Ciclo_Euler= [(0, 2), (2, 4), (4, 1), (1, 3), (3, 2), (2, 1), (1, 0)]\n"
     ]
    }
   ],
   "source": [
    "if(resCIe):\n",
    "    CIe=list(nx.eulerian_circuit(H,source=None))\n",
    "    print('Ciclo_Euler=',CIe)\n",
    "else:\n",
    "    print('El grafo No admite un Ciclo de Euler')"
   ]
  },
  {
   "cell_type": "markdown",
   "id": "bed567b5",
   "metadata": {},
   "source": [
    "## 5. Otros Grafos"
   ]
  },
  {
   "cell_type": "markdown",
   "id": "5735b83c",
   "metadata": {},
   "source": [
    "### 5.1. Grafos Completos"
   ]
  },
  {
   "cell_type": "markdown",
   "id": "5417f84e",
   "metadata": {},
   "source": [
    "Un grafo completo, es un grafo que tiene n vértices donde el grado de cada vértice es n-1. En otras palabras, cada vértice está conectado con todos los demás vértices."
   ]
  },
  {
   "cell_type": "code",
   "execution_count": 72,
   "id": "380c4ac3",
   "metadata": {},
   "outputs": [],
   "source": [
    "# Cargar el valor de n:\n",
    "n=6\n",
    "C=nx.complete_graph(n)\n",
    "pos = nx.spring_layout(C)"
   ]
  },
  {
   "cell_type": "code",
   "execution_count": 75,
   "id": "d7680daf",
   "metadata": {},
   "outputs": [
    {
     "data": {
      "image/png": "[encoded data removed]",
      "text/plain": [
       "<Figure size 432x288 with 1 Axes>"
      ]
     },
     "metadata": {},
     "output_type": "display_data"
    }
   ],
   "source": [
    "verticesC=list(C.edges)\n",
    "aristasC=[]    \n",
    "for i in range(len(verticesC)):\n",
    "    arista=str('a')+str(verticesC[i][0])+str(verticesC[i][1])\n",
    "    aristasC.append(arista)\n",
    "names = []\n",
    "nx.set_edge_attributes(C, names, \"names\")\n",
    "names = aristasC\n",
    "dfGrafoC=pd.DataFrame(verticesC, columns=[\"vertices\",\"aristas\"])\n",
    "nx.draw(C,pos,with_labels = True)"
   ]
  }
 ],
 "metadata": {
  "kernelspec": {
   "display_name": "Python 3 (ipykernel)",
   "language": "python",
   "name": "python3"
  },
  "language_info": {
   "codemirror_mode": {
    "name": "ipython",
    "version": 3
   },
   "file_extension": ".py",
   "mimetype": "text/x-python",
   "name": "python",
   "nbconvert_exporter": "python",
   "pygments_lexer": "ipython3",
   "version": "3.9.7"
  }
 },
 "nbformat": 4,
 "nbformat_minor": 5
}
